{
  "nbformat": 4,
  "nbformat_minor": 0,
  "metadata": {
    "colab": {
      "name": "Ernie_with_Bert_And_Roberta.ipynb",
      "provenance": [],
      "collapsed_sections": [],
      "toc_visible": true
    },
    "kernelspec": {
      "name": "python3",
      "display_name": "Python 3"
    },
    "accelerator": "GPU"
  },
  "cells": [
    {
      "cell_type": "code",
      "metadata": {
        "id": "a756H-IzviA7"
      },
      "source": [
        "# Installing ERNIE\n",
        "%tensorflow_version 2.x\n",
        "!pip install ernie==0.0.33b0 > /dev/null"
      ],
      "execution_count": 1,
      "outputs": []
    },
    {
      "cell_type": "code",
      "metadata": {
        "id": "z55GLBzmGTZn"
      },
      "source": [
        "#Importing libraries\n",
        "from sklearn.metrics import accuracy_score\n",
        "from ernie import SentenceClassifier, Models\n",
        "import pandas as pd"
      ],
      "execution_count": 2,
      "outputs": []
    },
    {
      "cell_type": "code",
      "metadata": {
        "id": "uj6-ac5n0Zmu",
        "colab": {
          "base_uri": "https://localhost:8080/",
          "height": 306
        },
        "outputId": "b08329d6-07d3-49b1-a26d-44400401c9db"
      },
      "source": [
        "#Getting data in dataframe\n",
        "df = pd.read_csv(\"Harassment_Cleaned_tweets.csv\")\n",
        "df.head()"
      ],
      "execution_count": 3,
      "outputs": [
        {
          "output_type": "execute_result",
          "data": {
            "text/html": [
              "<div>\n",
              "<style scoped>\n",
              "    .dataframe tbody tr th:only-of-type {\n",
              "        vertical-align: middle;\n",
              "    }\n",
              "\n",
              "    .dataframe tbody tr th {\n",
              "        vertical-align: top;\n",
              "    }\n",
              "\n",
              "    .dataframe thead th {\n",
              "        text-align: right;\n",
              "    }\n",
              "</style>\n",
              "<table border=\"1\" class=\"dataframe\">\n",
              "  <thead>\n",
              "    <tr style=\"text-align: right;\">\n",
              "      <th></th>\n",
              "      <th>Unnamed: 0</th>\n",
              "      <th>Key Word</th>\n",
              "      <th>Username</th>\n",
              "      <th>User_ID</th>\n",
              "      <th>Datetime</th>\n",
              "      <th>Favorite_count</th>\n",
              "      <th>Geo</th>\n",
              "      <th>Coordinates</th>\n",
              "      <th>Label</th>\n",
              "      <th>Text</th>\n",
              "      <th>Unnamed: 9</th>\n",
              "      <th>Unnamed: 10</th>\n",
              "      <th>Unnamed: 11</th>\n",
              "    </tr>\n",
              "  </thead>\n",
              "  <tbody>\n",
              "    <tr>\n",
              "      <th>0</th>\n",
              "      <td>704</td>\n",
              "      <td>ass</td>\n",
              "      <td>DeborahParr</td>\n",
              "      <td>1.330000e+18</td>\n",
              "      <td>11-11-2020 06:56</td>\n",
              "      <td>0</td>\n",
              "      <td>NaN</td>\n",
              "      <td>NaN</td>\n",
              "      <td>1</td>\n",
              "      <td>He’d have my phone wedged up his ass sideways.</td>\n",
              "      <td>NaN</td>\n",
              "      <td>NaN</td>\n",
              "      <td>NaN</td>\n",
              "    </tr>\n",
              "    <tr>\n",
              "      <th>1</th>\n",
              "      <td>1915</td>\n",
              "      <td>boobies</td>\n",
              "      <td>MaxZorin85</td>\n",
              "      <td>1.330000e+18</td>\n",
              "      <td>11-11-2020 07:35</td>\n",
              "      <td>4</td>\n",
              "      <td>NaN</td>\n",
              "      <td>NaN</td>\n",
              "      <td>0</td>\n",
              "      <td>Yep 100% agree and the same with severine in s...</td>\n",
              "      <td>NaN</td>\n",
              "      <td>NaN</td>\n",
              "      <td>NaN</td>\n",
              "    </tr>\n",
              "    <tr>\n",
              "      <th>2</th>\n",
              "      <td>2856</td>\n",
              "      <td>eat pussy</td>\n",
              "      <td>PRISJ1_</td>\n",
              "      <td>1.330000e+18</td>\n",
              "      <td>11-11-2020 10:36</td>\n",
              "      <td>0</td>\n",
              "      <td>NaN</td>\n",
              "      <td>NaN</td>\n",
              "      <td>1</td>\n",
              "      <td>Stop having sex with men that won’t eat your p...</td>\n",
              "      <td>NaN</td>\n",
              "      <td>NaN</td>\n",
              "      <td>NaN</td>\n",
              "    </tr>\n",
              "    <tr>\n",
              "      <th>3</th>\n",
              "      <td>2163</td>\n",
              "      <td>Breast Man</td>\n",
              "      <td>Teresamckenzy1</td>\n",
              "      <td>1.330000e+18</td>\n",
              "      <td>10-11-2020 20:52</td>\n",
              "      <td>0</td>\n",
              "      <td>NaN</td>\n",
              "      <td>NaN</td>\n",
              "      <td>1</td>\n",
              "      <td>When you see a sad man, just give him breast t...</td>\n",
              "      <td>NaN</td>\n",
              "      <td>NaN</td>\n",
              "      <td>NaN</td>\n",
              "    </tr>\n",
              "    <tr>\n",
              "      <th>4</th>\n",
              "      <td>2852</td>\n",
              "      <td>eat pussy</td>\n",
              "      <td>sj__vazquez</td>\n",
              "      <td>1.330000e+18</td>\n",
              "      <td>11-11-2020 10:42</td>\n",
              "      <td>0</td>\n",
              "      <td>NaN</td>\n",
              "      <td>NaN</td>\n",
              "      <td>1</td>\n",
              "      <td>We can't be together if you don't eat pussy</td>\n",
              "      <td>NaN</td>\n",
              "      <td>NaN</td>\n",
              "      <td>NaN</td>\n",
              "    </tr>\n",
              "  </tbody>\n",
              "</table>\n",
              "</div>"
            ],
            "text/plain": [
              "   Unnamed: 0    Key Word        Username  ...  Unnamed: 9 Unnamed: 10  Unnamed: 11\n",
              "0         704         ass     DeborahParr  ...         NaN         NaN          NaN\n",
              "1        1915     boobies      MaxZorin85  ...         NaN         NaN          NaN\n",
              "2        2856   eat pussy         PRISJ1_  ...         NaN         NaN          NaN\n",
              "3        2163  Breast Man  Teresamckenzy1  ...         NaN         NaN          NaN\n",
              "4        2852   eat pussy     sj__vazquez  ...         NaN         NaN          NaN\n",
              "\n",
              "[5 rows x 13 columns]"
            ]
          },
          "metadata": {
            "tags": []
          },
          "execution_count": 3
        }
      ]
    },
    {
      "cell_type": "code",
      "metadata": {
        "id": "Ld3C_S1gLttd"
      },
      "source": [
        "#Train Test split 0.8-0.2\n",
        "train = df[:2883]\n",
        "test = df[2883:]"
      ],
      "execution_count": 4,
      "outputs": []
    },
    {
      "cell_type": "code",
      "metadata": {
        "id": "fwAALwA-Lqqk"
      },
      "source": [
        "#Converting Train df into list of tuples\n",
        "listt = []\n",
        "\n",
        "for i in range (0,len(train)):\n",
        "  listt.append((train.at[i,\"Text\"],train.at[i,\"Label\"]))\n"
      ],
      "execution_count": 5,
      "outputs": []
    },
    {
      "cell_type": "code",
      "metadata": {
        "id": "-cnIrKzNMkSm"
      },
      "source": [
        "df2 = pd.DataFrame(listt)"
      ],
      "execution_count": 6,
      "outputs": []
    },
    {
      "cell_type": "code",
      "metadata": {
        "colab": {
          "base_uri": "https://localhost:8080/"
        },
        "id": "rZZcPaZz18yl",
        "outputId": "9601ae2f-c1fc-4a65-eb41-fd91d2fa62bc"
      },
      "source": [
        "#Roberta Base Cased Ernie\n",
        "classifier = SentenceClassifier(model_name=Models.RobertaBaseCased, max_length=64)\n",
        "classifier.load_dataset(df2, validation_split=0.1)\n",
        "classifier.fine_tune(epochs=5, learning_rate=2e-5, training_batch_size=32, validation_batch_size=64)\n"
      ],
      "execution_count": 7,
      "outputs": [
        {
          "output_type": "stream",
          "text": [
            "WARNING:tensorflow:From /usr/local/lib/python3.7/dist-packages/tensorflow/python/ops/array_ops.py:5049: calling gather (from tensorflow.python.ops.array_ops) with validate_indices is deprecated and will be removed in a future version.\n",
            "Instructions for updating:\n",
            "The `validate_indices` argument has no effect. Indices are always validated on CPU and never validated on GPU.\n"
          ],
          "name": "stdout"
        },
        {
          "output_type": "stream",
          "text": [
            "2021-06-04 09:12:58 [WARNING] From /usr/local/lib/python3.7/dist-packages/tensorflow/python/ops/array_ops.py:5049: calling gather (from tensorflow.python.ops.array_ops) with validate_indices is deprecated and will be removed in a future version.\n",
            "Instructions for updating:\n",
            "The `validate_indices` argument has no effect. Indices are always validated on CPU and never validated on GPU.\n"
          ],
          "name": "stderr"
        },
        {
          "output_type": "stream",
          "text": [
            "WARNING:tensorflow:Gradients do not exist for variables ['tf_roberta_for_sequence_classification/roberta/pooler/dense/kernel:0', 'tf_roberta_for_sequence_classification/roberta/pooler/dense/bias:0'] when minimizing the loss.\n"
          ],
          "name": "stdout"
        },
        {
          "output_type": "stream",
          "text": [
            "2021-06-04 09:13:04 [WARNING] Gradients do not exist for variables ['tf_roberta_for_sequence_classification/roberta/pooler/dense/kernel:0', 'tf_roberta_for_sequence_classification/roberta/pooler/dense/bias:0'] when minimizing the loss.\n"
          ],
          "name": "stderr"
        },
        {
          "output_type": "stream",
          "text": [
            "WARNING:tensorflow:Gradients do not exist for variables ['tf_roberta_for_sequence_classification/roberta/pooler/dense/kernel:0', 'tf_roberta_for_sequence_classification/roberta/pooler/dense/bias:0'] when minimizing the loss.\n"
          ],
          "name": "stdout"
        },
        {
          "output_type": "stream",
          "text": [
            "2021-06-04 09:13:14 [WARNING] Gradients do not exist for variables ['tf_roberta_for_sequence_classification/roberta/pooler/dense/kernel:0', 'tf_roberta_for_sequence_classification/roberta/pooler/dense/bias:0'] when minimizing the loss.\n"
          ],
          "name": "stderr"
        },
        {
          "output_type": "stream",
          "text": [
            "81/81 [==============================] - 100s 903ms/step - loss: 0.5771 - accuracy: 0.6863 - val_loss: 0.4207 - val_accuracy: 0.8164\n",
            "81/81 [==============================] - 70s 858ms/step - loss: 0.3886 - accuracy: 0.8372 - val_loss: 0.3864 - val_accuracy: 0.8281\n",
            "81/81 [==============================] - 70s 856ms/step - loss: 0.2975 - accuracy: 0.8846 - val_loss: 0.4630 - val_accuracy: 0.8203\n",
            "81/81 [==============================] - 70s 857ms/step - loss: 0.2008 - accuracy: 0.9348 - val_loss: 0.5051 - val_accuracy: 0.8281\n",
            "81/81 [==============================] - 70s 857ms/step - loss: 0.1536 - accuracy: 0.9498 - val_loss: 0.5150 - val_accuracy: 0.8242\n"
          ],
          "name": "stdout"
        }
      ]
    },
    {
      "cell_type": "code",
      "metadata": {
        "colab": {
          "base_uri": "https://localhost:8080/"
        },
        "id": "kjteYLYW2DD3",
        "outputId": "6170e699-dd24-4836-86f3-88b1d6b0a62a"
      },
      "source": [
        "#Test on custom input\n",
        "sentence = \"Show them them titties\"\n",
        "probabilities = classifier.predict_one(sentence)\n",
        "print(type(probabilities[0]))"
      ],
      "execution_count": 8,
      "outputs": [
        {
          "output_type": "stream",
          "text": [
            "<class 'float'>\n"
          ],
          "name": "stdout"
        }
      ]
    },
    {
      "cell_type": "code",
      "metadata": {
        "id": "WaPSjBXU3Ec0"
      },
      "source": [
        "#Get y_preds list\n",
        "y_pred = []\n",
        "\n",
        "for i in range (2883,len(df)):\n",
        "  probabilities = classifier.predict_one(test.at[i,\"Text\"])\n",
        "  if probabilities[0]>probabilities[1]:\n",
        "    y_pred.append(0)\n",
        "  else:\n",
        "    y_pred.append(1)"
      ],
      "execution_count": 9,
      "outputs": []
    },
    {
      "cell_type": "code",
      "metadata": {
        "colab": {
          "base_uri": "https://localhost:8080/"
        },
        "id": "XQ0jzrPX3rt4",
        "outputId": "43606787-e268-4569-adfe-4148a619ac6d"
      },
      "source": [
        "y_true = test[\"Label\"].tolist()\n",
        "print (accuracy_score(y_true, y_pred))"
      ],
      "execution_count": 10,
      "outputs": [
        {
          "output_type": "stream",
          "text": [
            "0.8210818307905686\n"
          ],
          "name": "stdout"
        }
      ]
    },
    {
      "cell_type": "code",
      "metadata": {
        "id": "DWUxY0qu_WUY",
        "colab": {
          "base_uri": "https://localhost:8080/"
        },
        "outputId": "2d726eb6-de4f-4385-92e2-1146144ac90c"
      },
      "source": [
        "#BERT Base Cased Ernie\n",
        "classifier = SentenceClassifier(model_name=Models.BertBaseCased, max_length=64)\n",
        "classifier.load_dataset(df2, validation_split=0.1)\n",
        "classifier.fine_tune(epochs=5, learning_rate=2e-5, training_batch_size=32, validation_batch_size=64)\n"
      ],
      "execution_count": 11,
      "outputs": [
        {
          "output_type": "stream",
          "text": [
            "81/81 [==============================] - 97s 885ms/step - loss: 0.5601 - accuracy: 0.7126 - val_loss: 0.4425 - val_accuracy: 0.8008\n",
            "81/81 [==============================] - 69s 844ms/step - loss: 0.3641 - accuracy: 0.8515 - val_loss: 0.4328 - val_accuracy: 0.8164\n",
            "81/81 [==============================] - 69s 845ms/step - loss: 0.2300 - accuracy: 0.9198 - val_loss: 0.4746 - val_accuracy: 0.8242\n",
            "81/81 [==============================] - 69s 845ms/step - loss: 0.1419 - accuracy: 0.9556 - val_loss: 0.5788 - val_accuracy: 0.7891\n",
            "81/81 [==============================] - 69s 843ms/step - loss: 0.0940 - accuracy: 0.9688 - val_loss: 0.7338 - val_accuracy: 0.8008\n"
          ],
          "name": "stdout"
        }
      ]
    },
    {
      "cell_type": "code",
      "metadata": {
        "id": "K7znTsIWOQNS"
      },
      "source": [
        "#Get y_preds list\n",
        "y_pred = []\n",
        "\n",
        "for i in range (2883,len(df)):\n",
        "  probabilities = classifier.predict_one(test.at[i,\"Text\"])\n",
        "  if probabilities[0]>probabilities[1]:\n",
        "    y_pred.append(0)\n",
        "  else:\n",
        "    y_pred.append(1)"
      ],
      "execution_count": 12,
      "outputs": []
    },
    {
      "cell_type": "code",
      "metadata": {
        "colab": {
          "base_uri": "https://localhost:8080/"
        },
        "id": "A66u17g1P3lO",
        "outputId": "5009654e-96c5-4499-9926-93b43a6ce2e9"
      },
      "source": [
        "y_true = test[\"Label\"].tolist()\n",
        "print (accuracy_score(y_true, y_pred))"
      ],
      "execution_count": 13,
      "outputs": [
        {
          "output_type": "stream",
          "text": [
            "0.8058252427184466\n"
          ],
          "name": "stdout"
        }
      ]
    }
  ]
}