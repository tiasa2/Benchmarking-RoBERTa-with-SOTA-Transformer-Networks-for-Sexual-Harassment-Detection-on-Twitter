{
  "nbformat": 4,
  "nbformat_minor": 0,
  "metadata": {
    "accelerator": "GPU",
    "colab": {
      "name": "Bert_SH.ipynb",
      "provenance": [],
      "collapsed_sections": []
    },
    "kernelspec": {
      "display_name": "Python 3",
      "language": "python",
      "name": "python3"
    },
    "language_info": {
      "codemirror_mode": {
        "name": "ipython",
        "version": 3
      },
      "file_extension": ".py",
      "mimetype": "text/x-python",
      "name": "python",
      "nbconvert_exporter": "python",
      "pygments_lexer": "ipython3",
      "version": "3.9.1"
    }
  },
  "cells": [
    {
      "cell_type": "code",
      "metadata": {
        "id": "8V42-c2hAqO0"
      },
      "source": [
        ""
      ],
      "execution_count": null,
      "outputs": []
    },
    {
      "cell_type": "code",
      "metadata": {
        "id": "uIWM2GnYxI7o"
      },
      "source": [
        "import numpy as np \n",
        "import pandas as pd\n",
        "import matplotlib.pyplot as plt"
      ],
      "execution_count": 1,
      "outputs": []
    },
    {
      "cell_type": "code",
      "metadata": {
        "id": "80u4GLBCxYUU"
      },
      "source": [
        "data = pd.read_csv(\"Cleaned_tweets.csv\")"
      ],
      "execution_count": 2,
      "outputs": []
    },
    {
      "cell_type": "code",
      "metadata": {
        "colab": {
          "base_uri": "https://localhost:8080/",
          "height": 717
        },
        "id": "-UjGP0LTxzIa",
        "outputId": "0ef1e454-ff00-40d6-e3cb-c99c37e83a68"
      },
      "source": [
        "data['Text'] = data['Text'].astype(str)\n",
        "data.head()"
      ],
      "execution_count": 3,
      "outputs": [
        {
          "output_type": "execute_result",
          "data": {
            "text/html": [
              "<div>\n",
              "<style scoped>\n",
              "    .dataframe tbody tr th:only-of-type {\n",
              "        vertical-align: middle;\n",
              "    }\n",
              "\n",
              "    .dataframe tbody tr th {\n",
              "        vertical-align: top;\n",
              "    }\n",
              "\n",
              "    .dataframe thead th {\n",
              "        text-align: right;\n",
              "    }\n",
              "</style>\n",
              "<table border=\"1\" class=\"dataframe\">\n",
              "  <thead>\n",
              "    <tr style=\"text-align: right;\">\n",
              "      <th></th>\n",
              "      <th>Unnamed: 0</th>\n",
              "      <th>Key Word</th>\n",
              "      <th>Username</th>\n",
              "      <th>User_ID</th>\n",
              "      <th>Datetime</th>\n",
              "      <th>Favorite_count</th>\n",
              "      <th>Geo</th>\n",
              "      <th>Coordinates</th>\n",
              "      <th>Label</th>\n",
              "      <th>Text</th>\n",
              "      <th>Unnamed: 9</th>\n",
              "      <th>Unnamed: 10</th>\n",
              "      <th>Unnamed: 11</th>\n",
              "    </tr>\n",
              "  </thead>\n",
              "  <tbody>\n",
              "    <tr>\n",
              "      <th>0</th>\n",
              "      <td>704</td>\n",
              "      <td>ass</td>\n",
              "      <td>DeborahParr</td>\n",
              "      <td>1.330000e+18</td>\n",
              "      <td>11-11-2020 06:56</td>\n",
              "      <td>0</td>\n",
              "      <td>NaN</td>\n",
              "      <td>NaN</td>\n",
              "      <td>1</td>\n",
              "      <td>He’d have my phone wedged up his ass sideways.</td>\n",
              "      <td>NaN</td>\n",
              "      <td>NaN</td>\n",
              "      <td>NaN</td>\n",
              "    </tr>\n",
              "    <tr>\n",
              "      <th>1</th>\n",
              "      <td>1915</td>\n",
              "      <td>boobies</td>\n",
              "      <td>MaxZorin85</td>\n",
              "      <td>1.330000e+18</td>\n",
              "      <td>11-11-2020 07:35</td>\n",
              "      <td>4</td>\n",
              "      <td>NaN</td>\n",
              "      <td>NaN</td>\n",
              "      <td>0</td>\n",
              "      <td>Yep 100% agree and the same with severine in s...</td>\n",
              "      <td>NaN</td>\n",
              "      <td>NaN</td>\n",
              "      <td>NaN</td>\n",
              "    </tr>\n",
              "    <tr>\n",
              "      <th>2</th>\n",
              "      <td>2856</td>\n",
              "      <td>eat pussy</td>\n",
              "      <td>PRISJ1_</td>\n",
              "      <td>1.330000e+18</td>\n",
              "      <td>11-11-2020 10:36</td>\n",
              "      <td>0</td>\n",
              "      <td>NaN</td>\n",
              "      <td>NaN</td>\n",
              "      <td>1</td>\n",
              "      <td>Stop having sex with men that won’t eat your p...</td>\n",
              "      <td>NaN</td>\n",
              "      <td>NaN</td>\n",
              "      <td>NaN</td>\n",
              "    </tr>\n",
              "    <tr>\n",
              "      <th>3</th>\n",
              "      <td>2163</td>\n",
              "      <td>Breast Man</td>\n",
              "      <td>Teresamckenzy1</td>\n",
              "      <td>1.330000e+18</td>\n",
              "      <td>10-11-2020 20:52</td>\n",
              "      <td>0</td>\n",
              "      <td>NaN</td>\n",
              "      <td>NaN</td>\n",
              "      <td>1</td>\n",
              "      <td>When you see a sad man, just give him breast t...</td>\n",
              "      <td>NaN</td>\n",
              "      <td>NaN</td>\n",
              "      <td>NaN</td>\n",
              "    </tr>\n",
              "    <tr>\n",
              "      <th>4</th>\n",
              "      <td>2852</td>\n",
              "      <td>eat pussy</td>\n",
              "      <td>sj__vazquez</td>\n",
              "      <td>1.330000e+18</td>\n",
              "      <td>11-11-2020 10:42</td>\n",
              "      <td>0</td>\n",
              "      <td>NaN</td>\n",
              "      <td>NaN</td>\n",
              "      <td>1</td>\n",
              "      <td>We can't be together if you don't eat pussy</td>\n",
              "      <td>NaN</td>\n",
              "      <td>NaN</td>\n",
              "      <td>NaN</td>\n",
              "    </tr>\n",
              "  </tbody>\n",
              "</table>\n",
              "</div>"
            ],
            "text/plain": [
              "   Unnamed: 0    Key Word        Username  ...  Unnamed: 9 Unnamed: 10  Unnamed: 11\n",
              "0         704         ass     DeborahParr  ...         NaN         NaN          NaN\n",
              "1        1915     boobies      MaxZorin85  ...         NaN         NaN          NaN\n",
              "2        2856   eat pussy         PRISJ1_  ...         NaN         NaN          NaN\n",
              "3        2163  Breast Man  Teresamckenzy1  ...         NaN         NaN          NaN\n",
              "4        2852   eat pussy     sj__vazquez  ...         NaN         NaN          NaN\n",
              "\n",
              "[5 rows x 13 columns]"
            ]
          },
          "metadata": {
            "tags": []
          },
          "execution_count": 3
        }
      ]
    },
    {
      "cell_type": "code",
      "metadata": {
        "id": "0zDdxNS5x0K6"
      },
      "source": [
        "import tensorflow as tf\n",
        "import sklearn\n",
        "import seaborn as sbs\n",
        "import sklearn.naive_bayes \n",
        "import sklearn.model_selection\n",
        "import sklearn.metrics"
      ],
      "execution_count": 4,
      "outputs": []
    },
    {
      "cell_type": "code",
      "metadata": {
        "colab": {
          "base_uri": "https://localhost:8080/"
        },
        "id": "rbMs8zNfyXE6",
        "outputId": "4f26c053-cb6c-480b-a2e2-fbfe23db53d3"
      },
      "source": [
        "!pip3 install bert-for-tf2"
      ],
      "execution_count": 5,
      "outputs": [
        {
          "output_type": "stream",
          "text": [
            "Collecting bert-for-tf2\n",
            "\u001b[?25l  Downloading https://files.pythonhosted.org/packages/a5/a1/acb891630749c56901e770a34d6bac8a509a367dd74a05daf7306952e910/bert-for-tf2-0.14.9.tar.gz (41kB)\n",
            "\r\u001b[K     |████████                        | 10kB 24.5MB/s eta 0:00:01\r\u001b[K     |████████████████                | 20kB 30.4MB/s eta 0:00:01\r\u001b[K     |███████████████████████▉        | 30kB 21.2MB/s eta 0:00:01\r\u001b[K     |███████████████████████████████▉| 40kB 19.2MB/s eta 0:00:01\r\u001b[K     |████████████████████████████████| 51kB 6.1MB/s \n",
            "\u001b[?25hCollecting py-params>=0.9.6\n",
            "  Downloading https://files.pythonhosted.org/packages/aa/e0/4f663d8abf83c8084b75b995bd2ab3a9512ebc5b97206fde38cef906ab07/py-params-0.10.2.tar.gz\n",
            "Collecting params-flow>=0.8.0\n",
            "  Downloading https://files.pythonhosted.org/packages/a9/95/ff49f5ebd501f142a6f0aaf42bcfd1c192dc54909d1d9eb84ab031d46056/params-flow-0.8.2.tar.gz\n",
            "Requirement already satisfied: numpy in /usr/local/lib/python3.7/dist-packages (from params-flow>=0.8.0->bert-for-tf2) (1.19.5)\n",
            "Requirement already satisfied: tqdm in /usr/local/lib/python3.7/dist-packages (from params-flow>=0.8.0->bert-for-tf2) (4.41.1)\n",
            "Building wheels for collected packages: bert-for-tf2, py-params, params-flow\n",
            "  Building wheel for bert-for-tf2 (setup.py) ... \u001b[?25l\u001b[?25hdone\n",
            "  Created wheel for bert-for-tf2: filename=bert_for_tf2-0.14.9-cp37-none-any.whl size=30535 sha256=47883ce04ca33eccc5069ca9855439819b5ba62deec82722245e244d3f876a17\n",
            "  Stored in directory: /root/.cache/pip/wheels/a1/04/ee/347bd9f5b821b637c76411d280271a857aece00358896a230f\n",
            "  Building wheel for py-params (setup.py) ... \u001b[?25l\u001b[?25hdone\n",
            "  Created wheel for py-params: filename=py_params-0.10.2-cp37-none-any.whl size=7912 sha256=bcb05116bff2d02d129c9a5959e9ec94d0b6f689576b4f274288e289cbba6f8d\n",
            "  Stored in directory: /root/.cache/pip/wheels/d0/4a/70/ff12450229ff1955abf01f365051d4faae1c20aef53ab4cf09\n",
            "  Building wheel for params-flow (setup.py) ... \u001b[?25l\u001b[?25hdone\n",
            "  Created wheel for params-flow: filename=params_flow-0.8.2-cp37-none-any.whl size=19472 sha256=a98199a26212c5769b4c664dd50a099923e9be4cb43b8e5c9cddc79f645b7f56\n",
            "  Stored in directory: /root/.cache/pip/wheels/08/c8/7f/81c86b9ff2b86e2c477e3914175be03e679e596067dc630c06\n",
            "Successfully built bert-for-tf2 py-params params-flow\n",
            "Installing collected packages: py-params, params-flow, bert-for-tf2\n",
            "Successfully installed bert-for-tf2-0.14.9 params-flow-0.8.2 py-params-0.10.2\n"
          ],
          "name": "stdout"
        }
      ]
    },
    {
      "cell_type": "code",
      "metadata": {
        "id": "48ZdBbrlx-Yf"
      },
      "source": [
        "import tensorflow_hub as hub \n",
        "from bert import bert_tokenization\n",
        "module_url = 'https://tfhub.dev/tensorflow/bert_en_uncased_L-12_H-768_A-12/2'\n",
        "bert_layer = hub.KerasLayer(module_url, trainable=True)"
      ],
      "execution_count": 6,
      "outputs": []
    },
    {
      "cell_type": "code",
      "metadata": {
        "id": "8Sgso15TJim7"
      },
      "source": [
        "vocab_file = bert_layer.resolved_object.vocab_file.asset_path.numpy()\n",
        "do_lower_case = bert_layer.resolved_object.do_lower_case.numpy()\n",
        "tokenizer = bert_tokenization.FullTokenizer(vocab_file, do_lower_case)"
      ],
      "execution_count": 7,
      "outputs": []
    },
    {
      "cell_type": "code",
      "metadata": {
        "id": "v42Pq7GdyIxG"
      },
      "source": [
        "def bert_encode(texts, tokenizer, max_len=512):\n",
        "    all_tokens = []\n",
        "    all_masks = []\n",
        "    all_segments = []\n",
        "    \n",
        "    for text in texts:\n",
        "        text = tokenizer.tokenize(text)\n",
        "            \n",
        "        text = text[:max_len-2]\n",
        "        input_sequence = [\"[CLS]\"] + text + [\"[SEP]\"]\n",
        "        pad_len = max_len - len(input_sequence)\n",
        "        \n",
        "        tokens = tokenizer.convert_tokens_to_ids(input_sequence) + [0] * pad_len\n",
        "        pad_masks = [1] * len(input_sequence) + [0] * pad_len\n",
        "        segment_ids = [0] * max_len\n",
        "        \n",
        "        all_tokens.append(tokens)\n",
        "        all_masks.append(pad_masks)\n",
        "        all_segments.append(segment_ids)\n",
        "    \n",
        "    return np.array(all_tokens), np.array(all_masks), np.array(all_segments)\n",
        "\n",
        "def build_model(bert_layer, max_len=512):\n",
        "    input_word_ids = tf.keras.Input(shape=(max_len,), dtype=tf.int32, name=\"input_word_ids\")\n",
        "    input_mask = tf.keras.Input(shape=(max_len,), dtype=tf.int32, name=\"input_mask\")\n",
        "    segment_ids = tf.keras.Input(shape=(max_len,), dtype=tf.int32, name=\"segment_ids\")\n",
        "\n",
        "    pooled_output, sequence_output = bert_layer([input_word_ids, input_mask, segment_ids])\n",
        "    clf_output = sequence_output[:, 0, :]\n",
        "    net = tf.keras.layers.Dense(64, activation='relu')(clf_output)\n",
        "    net = tf.keras.layers.Dropout(0.2)(net)\n",
        "    net = tf.keras.layers.Dense(32, activation='relu')(net)\n",
        "    net = tf.keras.layers.Dropout(0.2)(net)\n",
        "    out = tf.keras.layers.Dense(1, activation='sigmoid')(net)\n",
        "    \n",
        "    model = tf.keras.models.Model(inputs=[input_word_ids, input_mask, segment_ids], outputs=out)\n",
        "    model.compile(tf.keras.optimizers.Adam(lr=1e-5), loss='binary_crossentropy', metrics=['accuracy'])\n",
        "    \n",
        "    return model"
      ],
      "execution_count": 8,
      "outputs": []
    },
    {
      "cell_type": "code",
      "metadata": {
        "id": "O9sB1uIz043w"
      },
      "source": [
        "max_len = 100\n",
        "X_train, X_val, y_train, y_val = sklearn.model_selection.train_test_split(data.Text, data['Label'], \n",
        "                                                                          test_size=0.2, random_state=0)\n",
        "# print(X_train['Text'])\n",
        "# X_train['Text'] = X_train['Text'].apply(lambda x : string(x))\n",
        "X_train = bert_encode(X_train, tokenizer, max_len=max_len)\n",
        "X_val = bert_encode(X_val, tokenizer, max_len=max_len)"
      ],
      "execution_count": 9,
      "outputs": []
    },
    {
      "cell_type": "code",
      "metadata": {
        "colab": {
          "base_uri": "https://localhost:8080/"
        },
        "id": "MVIjlJxEJ1fH",
        "outputId": "c71062b4-26a5-424f-f1f0-c6842ab7d97f"
      },
      "source": [
        "model = build_model(bert_layer, max_len=max_len)\n",
        "model.summary()"
      ],
      "execution_count": 10,
      "outputs": [
        {
          "output_type": "stream",
          "text": [
            "Model: \"model\"\n",
            "__________________________________________________________________________________________________\n",
            "Layer (type)                    Output Shape         Param #     Connected to                     \n",
            "==================================================================================================\n",
            "input_word_ids (InputLayer)     [(None, 100)]        0                                            \n",
            "__________________________________________________________________________________________________\n",
            "input_mask (InputLayer)         [(None, 100)]        0                                            \n",
            "__________________________________________________________________________________________________\n",
            "segment_ids (InputLayer)        [(None, 100)]        0                                            \n",
            "__________________________________________________________________________________________________\n",
            "keras_layer (KerasLayer)        [(None, 768), (None, 109482241   input_word_ids[0][0]             \n",
            "                                                                 input_mask[0][0]                 \n",
            "                                                                 segment_ids[0][0]                \n",
            "__________________________________________________________________________________________________\n",
            "tf.__operators__.getitem (Slici (None, 768)          0           keras_layer[0][1]                \n",
            "__________________________________________________________________________________________________\n",
            "dense (Dense)                   (None, 64)           49216       tf.__operators__.getitem[0][0]   \n",
            "__________________________________________________________________________________________________\n",
            "dropout (Dropout)               (None, 64)           0           dense[0][0]                      \n",
            "__________________________________________________________________________________________________\n",
            "dense_1 (Dense)                 (None, 32)           2080        dropout[0][0]                    \n",
            "__________________________________________________________________________________________________\n",
            "dropout_1 (Dropout)             (None, 32)           0           dense_1[0][0]                    \n",
            "__________________________________________________________________________________________________\n",
            "dense_2 (Dense)                 (None, 1)            33          dropout_1[0][0]                  \n",
            "==================================================================================================\n",
            "Total params: 109,533,570\n",
            "Trainable params: 109,533,569\n",
            "Non-trainable params: 1\n",
            "__________________________________________________________________________________________________\n"
          ],
          "name": "stdout"
        }
      ]
    },
    {
      "cell_type": "code",
      "metadata": {
        "colab": {
          "base_uri": "https://localhost:8080/"
        },
        "id": "YnVa3briJ7de",
        "outputId": "79a1e0b5-75ae-45a0-d71c-8bbe582bb61a"
      },
      "source": [
        "%%time\n",
        "checkpoint = tf.keras.callbacks.ModelCheckpoint('model.h5', monitor='val_accuracy', save_best_only=True, verbose=1)\n",
        "earlystopping = tf.keras.callbacks.EarlyStopping(monitor='val_accuracy', patience=5, verbose=1)\n",
        "\n",
        "train_history = model.fit(\n",
        "    X_train, y_train, \n",
        "   \n",
        "    epochs=5,\n",
        "    callbacks=[checkpoint, earlystopping],\n",
        "    batch_size=1,\n",
        "    verbose=1\n",
        ")"
      ],
      "execution_count": 11,
      "outputs": [
        {
          "output_type": "stream",
          "text": [
            "Epoch 1/5\n",
            "2883/2883 [==============================] - 178s 57ms/step - loss: 0.6146 - accuracy: 0.6384\n",
            "WARNING:tensorflow:Can save best model only with val_accuracy available, skipping.\n"
          ],
          "name": "stdout"
        },
        {
          "output_type": "stream",
          "text": [
            "WARNING:tensorflow:Can save best model only with val_accuracy available, skipping.\n"
          ],
          "name": "stderr"
        },
        {
          "output_type": "stream",
          "text": [
            "WARNING:tensorflow:Early stopping conditioned on metric `val_accuracy` which is not available. Available metrics are: loss,accuracy\n"
          ],
          "name": "stdout"
        },
        {
          "output_type": "stream",
          "text": [
            "WARNING:tensorflow:Early stopping conditioned on metric `val_accuracy` which is not available. Available metrics are: loss,accuracy\n"
          ],
          "name": "stderr"
        },
        {
          "output_type": "stream",
          "text": [
            "Epoch 2/5\n",
            "2883/2883 [==============================] - 167s 58ms/step - loss: 0.3509 - accuracy: 0.8661\n",
            "WARNING:tensorflow:Can save best model only with val_accuracy available, skipping.\n"
          ],
          "name": "stdout"
        },
        {
          "output_type": "stream",
          "text": [
            "WARNING:tensorflow:Can save best model only with val_accuracy available, skipping.\n"
          ],
          "name": "stderr"
        },
        {
          "output_type": "stream",
          "text": [
            "WARNING:tensorflow:Early stopping conditioned on metric `val_accuracy` which is not available. Available metrics are: loss,accuracy\n"
          ],
          "name": "stdout"
        },
        {
          "output_type": "stream",
          "text": [
            "WARNING:tensorflow:Early stopping conditioned on metric `val_accuracy` which is not available. Available metrics are: loss,accuracy\n"
          ],
          "name": "stderr"
        },
        {
          "output_type": "stream",
          "text": [
            "Epoch 3/5\n",
            "2883/2883 [==============================] - 166s 58ms/step - loss: 0.2003 - accuracy: 0.9243\n",
            "WARNING:tensorflow:Can save best model only with val_accuracy available, skipping.\n"
          ],
          "name": "stdout"
        },
        {
          "output_type": "stream",
          "text": [
            "WARNING:tensorflow:Can save best model only with val_accuracy available, skipping.\n"
          ],
          "name": "stderr"
        },
        {
          "output_type": "stream",
          "text": [
            "WARNING:tensorflow:Early stopping conditioned on metric `val_accuracy` which is not available. Available metrics are: loss,accuracy\n"
          ],
          "name": "stdout"
        },
        {
          "output_type": "stream",
          "text": [
            "WARNING:tensorflow:Early stopping conditioned on metric `val_accuracy` which is not available. Available metrics are: loss,accuracy\n"
          ],
          "name": "stderr"
        },
        {
          "output_type": "stream",
          "text": [
            "Epoch 4/5\n",
            "2883/2883 [==============================] - 166s 58ms/step - loss: 0.0832 - accuracy: 0.9780\n",
            "WARNING:tensorflow:Can save best model only with val_accuracy available, skipping.\n"
          ],
          "name": "stdout"
        },
        {
          "output_type": "stream",
          "text": [
            "WARNING:tensorflow:Can save best model only with val_accuracy available, skipping.\n"
          ],
          "name": "stderr"
        },
        {
          "output_type": "stream",
          "text": [
            "WARNING:tensorflow:Early stopping conditioned on metric `val_accuracy` which is not available. Available metrics are: loss,accuracy\n"
          ],
          "name": "stdout"
        },
        {
          "output_type": "stream",
          "text": [
            "WARNING:tensorflow:Early stopping conditioned on metric `val_accuracy` which is not available. Available metrics are: loss,accuracy\n"
          ],
          "name": "stderr"
        },
        {
          "output_type": "stream",
          "text": [
            "Epoch 5/5\n",
            "2883/2883 [==============================] - 166s 58ms/step - loss: 0.0601 - accuracy: 0.9797\n",
            "WARNING:tensorflow:Can save best model only with val_accuracy available, skipping.\n"
          ],
          "name": "stdout"
        },
        {
          "output_type": "stream",
          "text": [
            "WARNING:tensorflow:Can save best model only with val_accuracy available, skipping.\n"
          ],
          "name": "stderr"
        },
        {
          "output_type": "stream",
          "text": [
            "WARNING:tensorflow:Early stopping conditioned on metric `val_accuracy` which is not available. Available metrics are: loss,accuracy\n"
          ],
          "name": "stdout"
        },
        {
          "output_type": "stream",
          "text": [
            "WARNING:tensorflow:Early stopping conditioned on metric `val_accuracy` which is not available. Available metrics are: loss,accuracy\n"
          ],
          "name": "stderr"
        },
        {
          "output_type": "stream",
          "text": [
            "CPU times: user 9min 58s, sys: 3min 25s, total: 13min 23s\n",
            "Wall time: 14min 3s\n"
          ],
          "name": "stdout"
        }
      ]
    },
    {
      "cell_type": "code",
      "metadata": {
        "colab": {
          "base_uri": "https://localhost:8080/"
        },
        "id": "LQozo9yV_kOI",
        "outputId": "b52263d0-52a3-4da7-b2e4-e9183b6321f0"
      },
      "source": [
        "train_history.history"
      ],
      "execution_count": 12,
      "outputs": [
        {
          "output_type": "execute_result",
          "data": {
            "text/plain": [
              "{'accuracy': [0.7162677645683289,\n",
              "  0.857787013053894,\n",
              "  0.928546667098999,\n",
              "  0.9705168008804321,\n",
              "  0.9784946441650391],\n",
              " 'loss': [0.5516601204872131,\n",
              "  0.3494113087654114,\n",
              "  0.19986805319786072,\n",
              "  0.10044638067483902,\n",
              "  0.06565620005130768]}"
            ]
          },
          "metadata": {
            "tags": []
          },
          "execution_count": 12
        }
      ]
    },
    {
      "cell_type": "code",
      "metadata": {
        "colab": {
          "base_uri": "https://localhost:8080/"
        },
        "id": "eAXX56B2_v1P",
        "outputId": "0abffe8c-c6a1-467e-d170-967f3861ce1b"
      },
      "source": [
        "print(X_val[0])"
      ],
      "execution_count": 13,
      "outputs": [
        {
          "output_type": "stream",
          "text": [
            "[[  101  2016  2018 ...     0     0     0]\n",
            " [  101  1045  2066 ...     0     0     0]\n",
            " [  101 10587  5610 ...     0     0     0]\n",
            " ...\n",
            " [  101 10334  5026 ...     0     0     0]\n",
            " [  101  1043  2546 ...     0     0     0]\n",
            " [  101  6289  1010 ...     0     0     0]]\n"
          ],
          "name": "stdout"
        }
      ]
    },
    {
      "cell_type": "code",
      "metadata": {
        "colab": {
          "base_uri": "https://localhost:8080/"
        },
        "id": "E-DyAyIAkEaJ",
        "outputId": "851bb708-b95d-463e-9576-53ba01e79213"
      },
      "source": [
        "test_performance=model.evaluate(X_val,y_val)\n",
        "print((test_performance))\n",
        "print(\"The loss of the model on the test set : {}\".format(test_performance[0]))\n",
        "print(\"The accuracy of the model on the test set : {}%\".format(test_performance[1]*100))\n",
        "y_pred = model.predict(X_val)"
      ],
      "execution_count": 14,
      "outputs": [
        {
          "output_type": "stream",
          "text": [
            "23/23 [==============================] - 5s 210ms/step - loss: 0.7042 - accuracy: 0.8086\n",
            "[0.7042478919029236, 0.8085991740226746]\n",
            "The loss of the model on the test set : 0.7042478919029236\n",
            "The accuracy of the model on the test set : 80.85991740226746%\n"
          ],
          "name": "stdout"
        }
      ]
    },
    {
      "cell_type": "code",
      "metadata": {
        "colab": {
          "base_uri": "https://localhost:8080/",
          "height": 295
        },
        "id": "pNPj3djgAQS_",
        "outputId": "07152ebb-c026-4f4d-ef46-167a40f8515a"
      },
      "source": [
        "plt.plot(train_history.history['accuracy'])\n",
        "plt.title('model accuracy')\n",
        "plt.ylabel('accuracy')\n",
        "plt.xlabel('epoch')\n",
        "plt.legend(['train', 'test'], loc='upper left')\n",
        "plt.show()"
      ],
      "execution_count": 15,
      "outputs": [
        {
          "output_type": "display_data",
          "data": {
            "image/png": "[encoded data removed]",
            "text/plain": [
              "<Figure size 432x288 with 1 Axes>"
            ]
          },
          "metadata": {
            "tags": [],
            "needs_background": "light"
          }
        }
      ]
    },
    {
      "cell_type": "code",
      "metadata": {
        "colab": {
          "base_uri": "https://localhost:8080/",
          "height": 295
        },
        "id": "i7WQzgQFAlXQ",
        "outputId": "6d437b89-6617-4a63-89dc-f83f47645c3a"
      },
      "source": [
        "plt.plot(train_history.history['loss'])\n",
        "plt.title('model loss')\n",
        "plt.ylabel('loss')\n",
        "plt.xlabel('epoch')\n",
        "plt.legend(['train', 'test'], loc='upper left')\n",
        "plt.show()"
      ],
      "execution_count": 16,
      "outputs": [
        {
          "output_type": "display_data",
          "data": {
            "image/png": "[encoded data removed]",
            "text/plain": [
              "<Figure size 432x288 with 1 Axes>"
            ]
          },
          "metadata": {
            "tags": [],
            "needs_background": "light"
          }
        }
      ]
    },
    {
      "cell_type": "code",
      "metadata": {
        "colab": {
          "base_uri": "https://localhost:8080/"
        },
        "id": "mqm2mtJJkg-g",
        "outputId": "76894731-2412-4bae-80b1-01721eeaf4ca"
      },
      "source": [
        "import math\n",
        "\n",
        "output_dict = {0:\"CYBER POLICE says this sentence is not Sexually Harassing.\", 1:\"CYBER POLICE ALTERT!! This sentence is Sexually Harassing. Call 155260 or visit https://cybercrime.gov.in to report this crime.\"}\n",
        "new_input = [[\"I gave you a promotion so you should give me a treat at Dominos in return.\"], [\"I gave you a promotion so you should give me some pleasure in return.\"], [\"This picture has dirty cars in it.\"], [\"Your pictures make me want to do dirty things to you.\"], [\"I have hair on my chest.\"], [\"I want to see your hairy chest.\"], [\"You and I will stay in separate rooms alone at night.\"], [\"I want to stay in a room alone with you at night.\"],[\"Can I touch your car?\"],[\"Can I touch you?\"]]\n",
        "\n",
        "new_val0 = bert_encode(new_input[0], tokenizer, max_len=max_len)\n",
        "new_val1 = bert_encode(new_input[1], tokenizer, max_len=max_len)\n",
        "new_val2 = bert_encode(new_input[2], tokenizer, max_len=max_len)\n",
        "new_val3 = bert_encode(new_input[3], tokenizer, max_len=max_len)\n",
        "new_val4 = bert_encode(new_input[4], tokenizer, max_len=max_len)\n",
        "new_val5 = bert_encode(new_input[5], tokenizer, max_len=max_len)\n",
        "new_val6 = bert_encode(new_input[6], tokenizer, max_len=max_len)\n",
        "new_val7 = bert_encode(new_input[7], tokenizer, max_len=max_len)\n",
        "\n",
        "print ('The sentence is \"' + new_input[0][0] + '\"')\n",
        "print (output_dict[(int(round(model.predict(new_val0)[0][0])))])\n",
        "print(\"\\n\")\n",
        "print ('The sentence is \"' + new_input[1][0] + '\"')\n",
        "print (output_dict[(int(round(model.predict(new_val1)[0][0])))])\n",
        "print(\"\\n\")\n",
        "print ('The sentence is \"' + new_input[2][0] + '\"')\n",
        "print (output_dict[(int(round(model.predict(new_val2)[0][0])))])\n",
        "print(\"\\n\")\n",
        "print ('The sentence is \"' + new_input[3][0] + '\"')\n",
        "print (output_dict[(int(round(model.predict(new_val3)[0][0])))])\n",
        "print(\"\\n\")\n",
        "print ('The sentence is \"' + new_input[4][0] + '\"')\n",
        "print (output_dict[(int(round(model.predict(new_val4)[0][0])))])\n",
        "print(\"\\n\")\n",
        "print ('The sentence is \"' + new_input[5][0] + '\"')\n",
        "print (output_dict[(int(round(model.predict(new_val5)[0][0])))])\n",
        "print(\"\\n\")\n",
        "print ('The sentence is \"' + new_input[6][0] + '\"')\n",
        "print (output_dict[(int(round(model.predict(new_val6)[0][0])))])\n",
        "print(\"\\n\")\n",
        "print ('The sentence is \"' + new_input[7][0] + '\"')\n",
        "print (output_dict[(int(round(model.predict(new_val7)[0][0])))])\n",
        "print(\"\\n\")\n",
        "print ('The sentence is \"' + new_input[8][0] + '\"')\n",
        "print (output_dict[(int(round(model.predict(new_val8)[0][0])))])\n",
        "print(\"\\n\")\n",
        "print ('The sentence is \"' + new_input[9][0] + '\"')\n",
        "print (output_dict[(int(round(model.predict(new_val9)[0][0])))])\n",
        "print(\"\\n\")"
      ],
      "execution_count": 61,
      "outputs": [
        {
          "output_type": "stream",
          "text": [
            "The sentence is \"I gave you a promotion so you should give me a treat at Dominos in return.\"\n",
            "CYBER POLICE says this sentence is not Sexually Harassing.\n",
            "\n",
            "\n",
            "The sentence is \"I gave you a promotion so you should give me some pleasure in return.\"\n",
            "CYBER POLICE ALTERT!! This sentence is Sexually Harassing. Call 155260 or visit https://cybercrime.gov.in to report this crime.\n",
            "\n",
            "\n",
            "The sentence is \"This picture has dirty cars in it.\"\n",
            "CYBER POLICE says this sentence is not Sexually Harassing.\n",
            "\n",
            "\n",
            "The sentence is \"Your pictures make me want to do dirty things to you.\"\n",
            "CYBER POLICE ALTERT!! This sentence is Sexually Harassing. Call 155260 or visit https://cybercrime.gov.in to report this crime.\n",
            "\n",
            "\n",
            "The sentence is \"I have hair on my chest.\"\n",
            "CYBER POLICE says this sentence is not Sexually Harassing.\n",
            "\n",
            "\n",
            "The sentence is \"I want to see your hairy chest.\"\n",
            "CYBER POLICE ALTERT!! This sentence is Sexually Harassing. Call 155260 or visit https://cybercrime.gov.in to report this crime.\n",
            "\n",
            "\n",
            "The sentence is \"You and I will stay in separate rooms alone at night.\"\n",
            "CYBER POLICE says this sentence is not Sexually Harassing.\n",
            "\n",
            "\n",
            "The sentence is \"I want to stay in a room alone with you at night.\"\n",
            "CYBER POLICE ALTERT!! This sentence is Sexually Harassing. Call 155260 or visit https://cybercrime.gov.in to report this crime.\n",
            "\n",
            "\n",
            "The sentence is \"Can I touch your car?\"\n",
            "CYBER POLICE says this sentence is not Sexually Harassing.\n",
            "\n",
            "\n",
            "The sentence is \"Can I touch you?\"\n",
            "CYBER POLICE ALTERT!! This sentence is Sexually Harassing. Call 155260 or visit https://cybercrime.gov.in to report this crime.\n",
            "\n",
            "\n"
          ],
          "name": "stdout"
        }
      ]
    },
    {
      "cell_type": "code",
      "metadata": {
        "id": "pRj_xPzIxmJS"
      },
      "source": [
        "y_pred = np.round(y_pred)"
      ],
      "execution_count": null,
      "outputs": []
    },
    {
      "cell_type": "code",
      "metadata": {
        "id": "PWwbF9Oz-dYW",
        "colab": {
          "base_uri": "https://localhost:8080/"
        },
        "outputId": "9589b10f-45b7-491f-84b1-b27ed9929062"
      },
      "source": [
        "from sklearn.metrics import f1_score\n",
        "print(f1_score(y_val, y_pred, average='macro'))\n",
        "print(f1_score(y_val, y_pred, average='micro'))\n",
        "print(f1_score(y_val, y_pred, average='weighted'))\n",
        "print(f1_score(y_val, y_pred, average=None))\n",
        "print(f1_score(y_val, y_pred, zero_division=1))"
      ],
      "execution_count": null,
      "outputs": [
        {
          "output_type": "stream",
          "text": [
            "0.830623942867882\n",
            "0.8335644937586685\n",
            "0.8326358987405255\n",
            "[0.80830671 0.85294118]\n",
            "0.8529411764705882\n"
          ],
          "name": "stdout"
        }
      ]
    },
    {
      "cell_type": "code",
      "metadata": {
        "colab": {
          "base_uri": "https://localhost:8080/"
        },
        "id": "F9jzjTxOp3wD",
        "outputId": "a70271c8-d35a-4ac1-a54b-28cc0753c4f9"
      },
      "source": [
        "from sklearn.metrics import recall_score\n",
        "print(recall_score(y_val, y_pred, average='macro'))\n",
        "print(recall_score(y_val, y_pred, average='micro'))\n",
        "print(recall_score(y_val, y_pred, average='weighted'))\n",
        "print(recall_score(y_val, y_pred, average=None))\n",
        "print(recall_score(y_val, y_pred, average=None, zero_division=1))"
      ],
      "execution_count": null,
      "outputs": [
        {
          "output_type": "stream",
          "text": [
            "0.8284188233103705\n",
            "0.8335644937586685\n",
            "0.8335644937586685\n",
            "[0.77134146 0.88549618]\n",
            "[0.77134146 0.88549618]\n"
          ],
          "name": "stdout"
        }
      ]
    },
    {
      "cell_type": "code",
      "metadata": {
        "colab": {
          "base_uri": "https://localhost:8080/"
        },
        "id": "-cI8q3jXyCKX",
        "outputId": "8e6ea70b-d97c-4a86-dfaa-488a1e0af33e"
      },
      "source": [
        "from sklearn.metrics import precision_score\n",
        "print(precision_score(y_val, y_pred, average='macro'))\n",
        "print(precision_score(y_val, y_pred, average='micro'))\n",
        "print(precision_score(y_val, y_pred, average='weighted'))\n",
        "print(precision_score(y_val, y_pred, average=None))\n",
        "print(precision_score(y_val, y_pred, average=None, zero_division=1))"
      ],
      "execution_count": null,
      "outputs": [
        {
          "output_type": "stream",
          "text": [
            "0.8358441620257985\n",
            "0.8335644937586685\n",
            "0.8346587345268909\n",
            "[0.84899329 0.82269504]\n",
            "[0.84899329 0.82269504]\n"
          ],
          "name": "stdout"
        }
      ]
    },
    {
      "cell_type": "code",
      "metadata": {
        "id": "BNThGijzyI7W"
      },
      "source": [
        ""
      ],
      "execution_count": null,
      "outputs": []
    }
  ]
}